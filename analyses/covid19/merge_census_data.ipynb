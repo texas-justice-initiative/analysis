{
 "cells": [
  {
   "cell_type": "code",
   "execution_count": 1,
   "metadata": {},
   "outputs": [
    {
     "ename": "ModuleNotFoundError",
     "evalue": "No module named 'toc'",
     "output_type": "error",
     "traceback": [
      "\u001b[0;31m---------------------------------------------------------------------------\u001b[0m",
      "\u001b[0;31mModuleNotFoundError\u001b[0m                       Traceback (most recent call last)",
      "\u001b[0;32m<ipython-input-1-86140cdd2c58>\u001b[0m in \u001b[0;36m<module>\u001b[0;34m\u001b[0m\n\u001b[1;32m      4\u001b[0m \u001b[0;32mimport\u001b[0m \u001b[0mdatadotworld\u001b[0m \u001b[0;32mas\u001b[0m \u001b[0mdw\u001b[0m\u001b[0;34m\u001b[0m\u001b[0;34m\u001b[0m\u001b[0m\n\u001b[1;32m      5\u001b[0m \u001b[0mget_ipython\u001b[0m\u001b[0;34m(\u001b[0m\u001b[0;34m)\u001b[0m\u001b[0;34m.\u001b[0m\u001b[0mrun_line_magic\u001b[0m\u001b[0;34m(\u001b[0m\u001b[0;34m'load_ext'\u001b[0m\u001b[0;34m,\u001b[0m \u001b[0;34m'watermark'\u001b[0m\u001b[0;34m)\u001b[0m\u001b[0;34m\u001b[0m\u001b[0;34m\u001b[0m\u001b[0m\n\u001b[0;32m----> 6\u001b[0;31m \u001b[0mget_ipython\u001b[0m\u001b[0;34m(\u001b[0m\u001b[0;34m)\u001b[0m\u001b[0;34m.\u001b[0m\u001b[0mrun_line_magic\u001b[0m\u001b[0;34m(\u001b[0m\u001b[0;34m'load_ext'\u001b[0m\u001b[0;34m,\u001b[0m \u001b[0;34m'toc'\u001b[0m\u001b[0;34m)\u001b[0m\u001b[0;34m\u001b[0m\u001b[0;34m\u001b[0m\u001b[0m\n\u001b[0m\u001b[1;32m      7\u001b[0m \u001b[0mpd\u001b[0m\u001b[0;34m.\u001b[0m\u001b[0mset_option\u001b[0m\u001b[0;34m(\u001b[0m\u001b[0;34m'display.expand_frame_repr'\u001b[0m\u001b[0;34m,\u001b[0m \u001b[0;32mFalse\u001b[0m\u001b[0;34m)\u001b[0m\u001b[0;34m\u001b[0m\u001b[0;34m\u001b[0m\u001b[0m\n\u001b[1;32m      8\u001b[0m \u001b[0mpd\u001b[0m\u001b[0;34m.\u001b[0m\u001b[0mset_option\u001b[0m\u001b[0;34m(\u001b[0m\u001b[0;34m'display.precision'\u001b[0m\u001b[0;34m,\u001b[0m \u001b[0;36m2\u001b[0m\u001b[0;34m)\u001b[0m\u001b[0;34m\u001b[0m\u001b[0;34m\u001b[0m\u001b[0m\n",
      "\u001b[0;32m~/opt/anaconda3/lib/python3.8/site-packages/IPython/core/interactiveshell.py\u001b[0m in \u001b[0;36mrun_line_magic\u001b[0;34m(self, magic_name, line, _stack_depth)\u001b[0m\n\u001b[1;32m   2325\u001b[0m                 \u001b[0mkwargs\u001b[0m\u001b[0;34m[\u001b[0m\u001b[0;34m'local_ns'\u001b[0m\u001b[0;34m]\u001b[0m \u001b[0;34m=\u001b[0m \u001b[0mself\u001b[0m\u001b[0;34m.\u001b[0m\u001b[0mget_local_scope\u001b[0m\u001b[0;34m(\u001b[0m\u001b[0mstack_depth\u001b[0m\u001b[0;34m)\u001b[0m\u001b[0;34m\u001b[0m\u001b[0;34m\u001b[0m\u001b[0m\n\u001b[1;32m   2326\u001b[0m             \u001b[0;32mwith\u001b[0m \u001b[0mself\u001b[0m\u001b[0;34m.\u001b[0m\u001b[0mbuiltin_trap\u001b[0m\u001b[0;34m:\u001b[0m\u001b[0;34m\u001b[0m\u001b[0;34m\u001b[0m\u001b[0m\n\u001b[0;32m-> 2327\u001b[0;31m                 \u001b[0mresult\u001b[0m \u001b[0;34m=\u001b[0m \u001b[0mfn\u001b[0m\u001b[0;34m(\u001b[0m\u001b[0;34m*\u001b[0m\u001b[0margs\u001b[0m\u001b[0;34m,\u001b[0m \u001b[0;34m**\u001b[0m\u001b[0mkwargs\u001b[0m\u001b[0;34m)\u001b[0m\u001b[0;34m\u001b[0m\u001b[0;34m\u001b[0m\u001b[0m\n\u001b[0m\u001b[1;32m   2328\u001b[0m             \u001b[0;32mreturn\u001b[0m \u001b[0mresult\u001b[0m\u001b[0;34m\u001b[0m\u001b[0;34m\u001b[0m\u001b[0m\n\u001b[1;32m   2329\u001b[0m \u001b[0;34m\u001b[0m\u001b[0m\n",
      "\u001b[0;32m<decorator-gen-57>\u001b[0m in \u001b[0;36mload_ext\u001b[0;34m(self, module_str)\u001b[0m\n",
      "\u001b[0;32m~/opt/anaconda3/lib/python3.8/site-packages/IPython/core/magic.py\u001b[0m in \u001b[0;36m<lambda>\u001b[0;34m(f, *a, **k)\u001b[0m\n\u001b[1;32m    185\u001b[0m     \u001b[0;31m# but it's overkill for just that one bit of state.\u001b[0m\u001b[0;34m\u001b[0m\u001b[0;34m\u001b[0m\u001b[0;34m\u001b[0m\u001b[0m\n\u001b[1;32m    186\u001b[0m     \u001b[0;32mdef\u001b[0m \u001b[0mmagic_deco\u001b[0m\u001b[0;34m(\u001b[0m\u001b[0marg\u001b[0m\u001b[0;34m)\u001b[0m\u001b[0;34m:\u001b[0m\u001b[0;34m\u001b[0m\u001b[0;34m\u001b[0m\u001b[0m\n\u001b[0;32m--> 187\u001b[0;31m         \u001b[0mcall\u001b[0m \u001b[0;34m=\u001b[0m \u001b[0;32mlambda\u001b[0m \u001b[0mf\u001b[0m\u001b[0;34m,\u001b[0m \u001b[0;34m*\u001b[0m\u001b[0ma\u001b[0m\u001b[0;34m,\u001b[0m \u001b[0;34m**\u001b[0m\u001b[0mk\u001b[0m\u001b[0;34m:\u001b[0m \u001b[0mf\u001b[0m\u001b[0;34m(\u001b[0m\u001b[0;34m*\u001b[0m\u001b[0ma\u001b[0m\u001b[0;34m,\u001b[0m \u001b[0;34m**\u001b[0m\u001b[0mk\u001b[0m\u001b[0;34m)\u001b[0m\u001b[0;34m\u001b[0m\u001b[0;34m\u001b[0m\u001b[0m\n\u001b[0m\u001b[1;32m    188\u001b[0m \u001b[0;34m\u001b[0m\u001b[0m\n\u001b[1;32m    189\u001b[0m         \u001b[0;32mif\u001b[0m \u001b[0mcallable\u001b[0m\u001b[0;34m(\u001b[0m\u001b[0marg\u001b[0m\u001b[0;34m)\u001b[0m\u001b[0;34m:\u001b[0m\u001b[0;34m\u001b[0m\u001b[0;34m\u001b[0m\u001b[0m\n",
      "\u001b[0;32m~/opt/anaconda3/lib/python3.8/site-packages/IPython/core/magics/extension.py\u001b[0m in \u001b[0;36mload_ext\u001b[0;34m(self, module_str)\u001b[0m\n\u001b[1;32m     31\u001b[0m         \u001b[0;32mif\u001b[0m \u001b[0;32mnot\u001b[0m \u001b[0mmodule_str\u001b[0m\u001b[0;34m:\u001b[0m\u001b[0;34m\u001b[0m\u001b[0;34m\u001b[0m\u001b[0m\n\u001b[1;32m     32\u001b[0m             \u001b[0;32mraise\u001b[0m \u001b[0mUsageError\u001b[0m\u001b[0;34m(\u001b[0m\u001b[0;34m'Missing module name.'\u001b[0m\u001b[0;34m)\u001b[0m\u001b[0;34m\u001b[0m\u001b[0;34m\u001b[0m\u001b[0m\n\u001b[0;32m---> 33\u001b[0;31m         \u001b[0mres\u001b[0m \u001b[0;34m=\u001b[0m \u001b[0mself\u001b[0m\u001b[0;34m.\u001b[0m\u001b[0mshell\u001b[0m\u001b[0;34m.\u001b[0m\u001b[0mextension_manager\u001b[0m\u001b[0;34m.\u001b[0m\u001b[0mload_extension\u001b[0m\u001b[0;34m(\u001b[0m\u001b[0mmodule_str\u001b[0m\u001b[0;34m)\u001b[0m\u001b[0;34m\u001b[0m\u001b[0;34m\u001b[0m\u001b[0m\n\u001b[0m\u001b[1;32m     34\u001b[0m \u001b[0;34m\u001b[0m\u001b[0m\n\u001b[1;32m     35\u001b[0m         \u001b[0;32mif\u001b[0m \u001b[0mres\u001b[0m \u001b[0;34m==\u001b[0m \u001b[0;34m'already loaded'\u001b[0m\u001b[0;34m:\u001b[0m\u001b[0;34m\u001b[0m\u001b[0;34m\u001b[0m\u001b[0m\n",
      "\u001b[0;32m~/opt/anaconda3/lib/python3.8/site-packages/IPython/core/extensions.py\u001b[0m in \u001b[0;36mload_extension\u001b[0;34m(self, module_str)\u001b[0m\n\u001b[1;32m     78\u001b[0m             \u001b[0;32mif\u001b[0m \u001b[0mmodule_str\u001b[0m \u001b[0;32mnot\u001b[0m \u001b[0;32min\u001b[0m \u001b[0msys\u001b[0m\u001b[0;34m.\u001b[0m\u001b[0mmodules\u001b[0m\u001b[0;34m:\u001b[0m\u001b[0;34m\u001b[0m\u001b[0;34m\u001b[0m\u001b[0m\n\u001b[1;32m     79\u001b[0m                 \u001b[0;32mwith\u001b[0m \u001b[0mprepended_to_syspath\u001b[0m\u001b[0;34m(\u001b[0m\u001b[0mself\u001b[0m\u001b[0;34m.\u001b[0m\u001b[0mipython_extension_dir\u001b[0m\u001b[0;34m)\u001b[0m\u001b[0;34m:\u001b[0m\u001b[0;34m\u001b[0m\u001b[0;34m\u001b[0m\u001b[0m\n\u001b[0;32m---> 80\u001b[0;31m                     \u001b[0mmod\u001b[0m \u001b[0;34m=\u001b[0m \u001b[0mimport_module\u001b[0m\u001b[0;34m(\u001b[0m\u001b[0mmodule_str\u001b[0m\u001b[0;34m)\u001b[0m\u001b[0;34m\u001b[0m\u001b[0;34m\u001b[0m\u001b[0m\n\u001b[0m\u001b[1;32m     81\u001b[0m                     \u001b[0;32mif\u001b[0m \u001b[0mmod\u001b[0m\u001b[0;34m.\u001b[0m\u001b[0m__file__\u001b[0m\u001b[0;34m.\u001b[0m\u001b[0mstartswith\u001b[0m\u001b[0;34m(\u001b[0m\u001b[0mself\u001b[0m\u001b[0;34m.\u001b[0m\u001b[0mipython_extension_dir\u001b[0m\u001b[0;34m)\u001b[0m\u001b[0;34m:\u001b[0m\u001b[0;34m\u001b[0m\u001b[0;34m\u001b[0m\u001b[0m\n\u001b[1;32m     82\u001b[0m                         print((\"Loading extensions from {dir} is deprecated. \"\n",
      "\u001b[0;32m~/opt/anaconda3/lib/python3.8/importlib/__init__.py\u001b[0m in \u001b[0;36mimport_module\u001b[0;34m(name, package)\u001b[0m\n\u001b[1;32m    125\u001b[0m                 \u001b[0;32mbreak\u001b[0m\u001b[0;34m\u001b[0m\u001b[0;34m\u001b[0m\u001b[0m\n\u001b[1;32m    126\u001b[0m             \u001b[0mlevel\u001b[0m \u001b[0;34m+=\u001b[0m \u001b[0;36m1\u001b[0m\u001b[0;34m\u001b[0m\u001b[0;34m\u001b[0m\u001b[0m\n\u001b[0;32m--> 127\u001b[0;31m     \u001b[0;32mreturn\u001b[0m \u001b[0m_bootstrap\u001b[0m\u001b[0;34m.\u001b[0m\u001b[0m_gcd_import\u001b[0m\u001b[0;34m(\u001b[0m\u001b[0mname\u001b[0m\u001b[0;34m[\u001b[0m\u001b[0mlevel\u001b[0m\u001b[0;34m:\u001b[0m\u001b[0;34m]\u001b[0m\u001b[0;34m,\u001b[0m \u001b[0mpackage\u001b[0m\u001b[0;34m,\u001b[0m \u001b[0mlevel\u001b[0m\u001b[0;34m)\u001b[0m\u001b[0;34m\u001b[0m\u001b[0;34m\u001b[0m\u001b[0m\n\u001b[0m\u001b[1;32m    128\u001b[0m \u001b[0;34m\u001b[0m\u001b[0m\n\u001b[1;32m    129\u001b[0m \u001b[0;34m\u001b[0m\u001b[0m\n",
      "\u001b[0;32m~/opt/anaconda3/lib/python3.8/importlib/_bootstrap.py\u001b[0m in \u001b[0;36m_gcd_import\u001b[0;34m(name, package, level)\u001b[0m\n",
      "\u001b[0;32m~/opt/anaconda3/lib/python3.8/importlib/_bootstrap.py\u001b[0m in \u001b[0;36m_find_and_load\u001b[0;34m(name, import_)\u001b[0m\n",
      "\u001b[0;32m~/opt/anaconda3/lib/python3.8/importlib/_bootstrap.py\u001b[0m in \u001b[0;36m_find_and_load_unlocked\u001b[0;34m(name, import_)\u001b[0m\n",
      "\u001b[0;31mModuleNotFoundError\u001b[0m: No module named 'toc'"
     ]
    }
   ],
   "source": [
    "import pandas as pd\n",
    "import requests\n",
    "import json\n",
    "import datadotworld as dw\n",
    "%load_ext watermark\n",
    "pd.set_option('display.expand_frame_repr', False)\n",
    "pd.set_option('display.precision', 2)"
   ]
  },
  {
   "cell_type": "code",
   "execution_count": 173,
   "metadata": {
    "scrolled": true
   },
   "outputs": [
    {
     "name": "stdout",
     "output_type": "stream",
     "text": [
      "Author: Lukas Hager\n",
      "\n",
      "Python implementation: CPython\n",
      "Python version       : 3.8.5\n",
      "IPython version      : 7.19.0\n",
      "\n",
      "pandas      : 1.1.3\n",
      "datadotworld: 1.7.0\n",
      "\n"
     ]
    }
   ],
   "source": [
    "%watermark -a 'Lukas Hager' -v -p pandas,datadotworld"
   ]
  },
  {
   "cell_type": "markdown",
   "metadata": {},
   "source": [
    "#### Define the API query string and pull the data"
   ]
  },
  {
   "cell_type": "code",
   "execution_count": 3,
   "metadata": {},
   "outputs": [],
   "source": [
    "qs = 'https://api.census.gov/data/2019/acs/acs5?key=dbdcf56ed39f351aba8093a27cb1e19f1f3ac043&get=B19013_001E&for='\n",
    "\n",
    "income_df = pd.DataFrame(data = json.loads(requests.get('{}zip%20code%20tabulation%20area:*'.format(qs)).text))\n",
    "# rename\n",
    "income_df.rename(columns={0: 'med_income', 1: 'state', 2: 'zip_code'}, inplace=True)\n",
    "# drop the headers\n",
    "income_df.drop(income_df.index[0], inplace=True)\n",
    "# filter to TX\n",
    "income_df = income_df.loc[income_df.state == '48']\n",
    "# cast median income as integer and zip as string\n",
    "income_df['med_income'] = income_df['med_income'].astype('float')\n",
    "income_df['zip_code'] = income_df['zip_code'].astype('str')\n"
   ]
  },
  {
   "cell_type": "code",
   "execution_count": 175,
   "metadata": {},
   "outputs": [
    {
     "data": {
      "text/html": [
       "<div>\n",
       "<style scoped>\n",
       "    .dataframe tbody tr th:only-of-type {\n",
       "        vertical-align: middle;\n",
       "    }\n",
       "\n",
       "    .dataframe tbody tr th {\n",
       "        vertical-align: top;\n",
       "    }\n",
       "\n",
       "    .dataframe thead th {\n",
       "        text-align: right;\n",
       "    }\n",
       "</style>\n",
       "<table border=\"1\" class=\"dataframe\">\n",
       "  <thead>\n",
       "    <tr style=\"text-align: right;\">\n",
       "      <th></th>\n",
       "      <th>med_income</th>\n",
       "      <th>state</th>\n",
       "      <th>zip_code</th>\n",
       "    </tr>\n",
       "  </thead>\n",
       "  <tbody>\n",
       "    <tr>\n",
       "      <th>25859</th>\n",
       "      <td>72512.0</td>\n",
       "      <td>48</td>\n",
       "      <td>75001</td>\n",
       "    </tr>\n",
       "    <tr>\n",
       "      <th>25860</th>\n",
       "      <td>101429.0</td>\n",
       "      <td>48</td>\n",
       "      <td>75002</td>\n",
       "    </tr>\n",
       "    <tr>\n",
       "      <th>25861</th>\n",
       "      <td>64462.0</td>\n",
       "      <td>48</td>\n",
       "      <td>75006</td>\n",
       "    </tr>\n",
       "    <tr>\n",
       "      <th>25862</th>\n",
       "      <td>86648.0</td>\n",
       "      <td>48</td>\n",
       "      <td>75007</td>\n",
       "    </tr>\n",
       "    <tr>\n",
       "      <th>25863</th>\n",
       "      <td>111146.0</td>\n",
       "      <td>48</td>\n",
       "      <td>75009</td>\n",
       "    </tr>\n",
       "  </tbody>\n",
       "</table>\n",
       "</div>"
      ],
      "text/plain": [
       "       med_income state zip_code\n",
       "25859     72512.0    48    75001\n",
       "25860    101429.0    48    75002\n",
       "25861     64462.0    48    75006\n",
       "25862     86648.0    48    75007\n",
       "25863    111146.0    48    75009"
      ]
     },
     "execution_count": 175,
     "metadata": {},
     "output_type": "execute_result"
    }
   ],
   "source": [
    "income_df.loc[income_df.med_income >= 0].head()"
   ]
  },
  {
   "cell_type": "markdown",
   "metadata": {},
   "source": [
    "#### What does the distribution look like?\n",
    "There are fewer zip codes than google would suggest, but this seems overall somewhat reasonable, at least in terms of magnitude"
   ]
  },
  {
   "cell_type": "code",
   "execution_count": 176,
   "metadata": {},
   "outputs": [
    {
     "data": {
      "text/plain": [
       "count      1781.00\n",
       "mean      60038.24\n",
       "std       24911.51\n",
       "min        2499.00\n",
       "25%       44006.00\n",
       "50%       54438.00\n",
       "75%       69464.00\n",
       "max      250001.00\n",
       "Name: med_income, dtype: float64"
      ]
     },
     "execution_count": 176,
     "metadata": {},
     "output_type": "execute_result"
    }
   ],
   "source": [
    "income_df.loc[income_df.med_income >= 0]['med_income'].describe()"
   ]
  },
  {
   "cell_type": "markdown",
   "metadata": {},
   "source": [
    "#### Not sure how to gut check this, but the median income across TX matches google"
   ]
  },
  {
   "cell_type": "code",
   "execution_count": 177,
   "metadata": {},
   "outputs": [
    {
     "name": "stdout",
     "output_type": "stream",
     "text": [
      "The median household income in Texas is 61874\n"
     ]
    }
   ],
   "source": [
    "tx_med_income = json.loads(requests.get('{}state:48'.format(qs)).text)[1][0]\n",
    "print('The median household income in Texas is {}'.format(tx_med_income))\n"
   ]
  },
  {
   "cell_type": "markdown",
   "metadata": {},
   "source": [
    "#### Get the raw data from data.world"
   ]
  },
  {
   "cell_type": "code",
   "execution_count": 178,
   "metadata": {},
   "outputs": [
    {
     "name": "stderr",
     "output_type": "stream",
     "text": [
      "/Users/hlukas/opt/anaconda3/lib/python3.8/site-packages/datadotworld/models/dataset.py:206: UserWarning: Unable to set data frame dtypes automatically using shot_civilians schema. Data types may need to be adjusted manually. Error: Bool column has NA values in column 138\n",
      "  warnings.warn(\n"
     ]
    }
   ],
   "source": [
    "files = dw.load_dataset('tji/officer-involved-shootings').dataframes\n",
    "shot_officers = files['shot_officers']\n",
    "shot_civilians = files['shot_civilians']"
   ]
  },
  {
   "cell_type": "markdown",
   "metadata": {},
   "source": [
    "#### Perform the join"
   ]
  },
  {
   "cell_type": "code",
   "execution_count": 179,
   "metadata": {},
   "outputs": [],
   "source": [
    "shot_officers['incident_zip'] = shot_officers['incident_zip'].astype('str')\n",
    "shot_officers_income = shot_officers.set_index('incident_zip').join(income_df.set_index('zip_code'), how = 'left')\n",
    "shot_civilians['incident_zip'] = shot_civilians['incident_zip'].astype('str')\n",
    "shot_civilians['incident_zip'] = shot_civilians['incident_zip'].str.replace(pat = '(\\\\.\\d)', repl = '')\n",
    "shot_civilians_income = shot_civilians.set_index('incident_zip').join(income_df.set_index('zip_code'), how = 'left')"
   ]
  },
  {
   "cell_type": "markdown",
   "metadata": {},
   "source": [
    "#### Merge is good for officers, not so good for civilians"
   ]
  },
  {
   "cell_type": "code",
   "execution_count": 180,
   "metadata": {},
   "outputs": [
    {
     "name": "stdout",
     "output_type": "stream",
     "text": [
      "1 null income(s) in officers data\n",
      "11 null income(s) in civlian data\n"
     ]
    }
   ],
   "source": [
    "print('{} null income(s) in officers data'.format(sum(shot_officers_income['med_income'].isnull())))\n",
    "print('{} null income(s) in civlian data'.format(sum(shot_civilians_income['med_income'].isnull())))"
   ]
  },
  {
   "cell_type": "markdown",
   "metadata": {},
   "source": [
    "#### No census data on the one officer data issue, but the zip code should be 78040 according to Google Maps"
   ]
  },
  {
   "cell_type": "code",
   "execution_count": 181,
   "metadata": {},
   "outputs": [
    {
     "data": {
      "text/html": [
       "<div>\n",
       "<style scoped>\n",
       "    .dataframe tbody tr th:only-of-type {\n",
       "        vertical-align: middle;\n",
       "    }\n",
       "\n",
       "    .dataframe tbody tr th {\n",
       "        vertical-align: top;\n",
       "    }\n",
       "\n",
       "    .dataframe thead th {\n",
       "        text-align: right;\n",
       "    }\n",
       "</style>\n",
       "<table border=\"1\" class=\"dataframe\">\n",
       "  <thead>\n",
       "    <tr style=\"text-align: right;\">\n",
       "      <th></th>\n",
       "      <th>date_ag_received</th>\n",
       "      <th>date_incident</th>\n",
       "      <th>incident_address</th>\n",
       "      <th>incident_city</th>\n",
       "      <th>incident_county</th>\n",
       "      <th>officer_harm</th>\n",
       "      <th>officer_name_first</th>\n",
       "      <th>officer_name_last</th>\n",
       "      <th>officer_age</th>\n",
       "      <th>officer_race</th>\n",
       "      <th>...</th>\n",
       "      <th>civilian_name_first_3</th>\n",
       "      <th>civilian_name_last_3</th>\n",
       "      <th>civilian_age_3</th>\n",
       "      <th>civilian_race_3</th>\n",
       "      <th>civilian_gender_3</th>\n",
       "      <th>media_link_1</th>\n",
       "      <th>media_link_2</th>\n",
       "      <th>media_link_3</th>\n",
       "      <th>med_income</th>\n",
       "      <th>state</th>\n",
       "    </tr>\n",
       "  </thead>\n",
       "  <tbody>\n",
       "    <tr>\n",
       "      <th>78042</th>\n",
       "      <td>2018-10-12</td>\n",
       "      <td>2018-09-15</td>\n",
       "      <td>417 E. FREMONT STREET</td>\n",
       "      <td>LAREDO</td>\n",
       "      <td>WEBB</td>\n",
       "      <td>INJURY</td>\n",
       "      <td>NaN</td>\n",
       "      <td>NaN</td>\n",
       "      <td>29.0</td>\n",
       "      <td>HISPANIC</td>\n",
       "      <td>...</td>\n",
       "      <td>NaN</td>\n",
       "      <td>NaN</td>\n",
       "      <td>NaN</td>\n",
       "      <td>NaN</td>\n",
       "      <td>NaN</td>\n",
       "      <td>LMT ONLINE</td>\n",
       "      <td>KGNS TV</td>\n",
       "      <td>NaN</td>\n",
       "      <td>NaN</td>\n",
       "      <td>NaN</td>\n",
       "    </tr>\n",
       "  </tbody>\n",
       "</table>\n",
       "<p>1 rows × 48 columns</p>\n",
       "</div>"
      ],
      "text/plain": [
       "      date_ag_received date_incident       incident_address incident_city incident_county officer_harm officer_name_first officer_name_last  officer_age officer_race  ... civilian_name_first_3 civilian_name_last_3 civilian_age_3 civilian_race_3 civilian_gender_3 media_link_1 media_link_2 media_link_3 med_income state\n",
       "78042       2018-10-12    2018-09-15  417 E. FREMONT STREET        LAREDO            WEBB       INJURY                NaN               NaN         29.0     HISPANIC  ...                   NaN                  NaN            NaN             NaN               NaN   LMT ONLINE      KGNS TV          NaN        NaN   NaN\n",
       "\n",
       "[1 rows x 48 columns]"
      ]
     },
     "execution_count": 181,
     "metadata": {},
     "output_type": "execute_result"
    }
   ],
   "source": [
    "shot_officers_income.loc[shot_officers_income['med_income'].isnull() == True]"
   ]
  },
  {
   "cell_type": "code",
   "execution_count": 182,
   "metadata": {},
   "outputs": [
    {
     "data": {
      "text/html": [
       "<div>\n",
       "<style scoped>\n",
       "    .dataframe tbody tr th:only-of-type {\n",
       "        vertical-align: middle;\n",
       "    }\n",
       "\n",
       "    .dataframe tbody tr th {\n",
       "        vertical-align: top;\n",
       "    }\n",
       "\n",
       "    .dataframe thead th {\n",
       "        text-align: right;\n",
       "    }\n",
       "</style>\n",
       "<table border=\"1\" class=\"dataframe\">\n",
       "  <thead>\n",
       "    <tr style=\"text-align: right;\">\n",
       "      <th></th>\n",
       "      <th>med_income</th>\n",
       "      <th>state</th>\n",
       "      <th>zip_code</th>\n",
       "    </tr>\n",
       "  </thead>\n",
       "  <tbody>\n",
       "  </tbody>\n",
       "</table>\n",
       "</div>"
      ],
      "text/plain": [
       "Empty DataFrame\n",
       "Columns: [med_income, state, zip_code]\n",
       "Index: []"
      ]
     },
     "execution_count": 182,
     "metadata": {},
     "output_type": "execute_result"
    }
   ],
   "source": [
    "income_df.loc[income_df['zip_code'] == '78042']"
   ]
  },
  {
   "cell_type": "markdown",
   "metadata": {},
   "source": [
    "#### We see the same issue with civilians -- otherwise good"
   ]
  },
  {
   "cell_type": "code",
   "execution_count": 183,
   "metadata": {},
   "outputs": [
    {
     "data": {
      "text/html": [
       "<div>\n",
       "<style scoped>\n",
       "    .dataframe tbody tr th:only-of-type {\n",
       "        vertical-align: middle;\n",
       "    }\n",
       "\n",
       "    .dataframe tbody tr th {\n",
       "        vertical-align: top;\n",
       "    }\n",
       "\n",
       "    .dataframe thead th {\n",
       "        text-align: right;\n",
       "    }\n",
       "</style>\n",
       "<table border=\"1\" class=\"dataframe\">\n",
       "  <thead>\n",
       "    <tr style=\"text-align: right;\">\n",
       "      <th></th>\n",
       "      <th>date_ag_received</th>\n",
       "      <th>date_incident</th>\n",
       "      <th>incident_address</th>\n",
       "      <th>incident_city</th>\n",
       "      <th>incident_county</th>\n",
       "      <th>incident_result_of</th>\n",
       "      <th>incident_call_other</th>\n",
       "      <th>civilian_name_first</th>\n",
       "      <th>civilian_name_last</th>\n",
       "      <th>civilian_name_full</th>\n",
       "      <th>...</th>\n",
       "      <th>num_rows_about_this_incident</th>\n",
       "      <th>officer_age_11</th>\n",
       "      <th>officer_gender_11</th>\n",
       "      <th>officer_on_duty</th>\n",
       "      <th>officer_race_11</th>\n",
       "      <th>time_incident</th>\n",
       "      <th>weapon_reported_by_media</th>\n",
       "      <th>weapon_reported_by_media_category</th>\n",
       "      <th>med_income</th>\n",
       "      <th>state</th>\n",
       "    </tr>\n",
       "  </thead>\n",
       "  <tbody>\n",
       "    <tr>\n",
       "      <th>75261</th>\n",
       "      <td>NaN</td>\n",
       "      <td>2015-09-08</td>\n",
       "      <td>1500 RANGE ROAD</td>\n",
       "      <td>DFW, AIRPORT</td>\n",
       "      <td>TARRANT</td>\n",
       "      <td>OTHER - SPECIFY TYPE OF CALL</td>\n",
       "      <td>TRAINING EXERCISE - RICOCHET FRAGMENTS RESULTI...</td>\n",
       "      <td>NaN</td>\n",
       "      <td>NaN</td>\n",
       "      <td>NaN</td>\n",
       "      <td>...</td>\n",
       "      <td>1</td>\n",
       "      <td>NaN</td>\n",
       "      <td>NaN</td>\n",
       "      <td>True</td>\n",
       "      <td>NaN</td>\n",
       "      <td>NaN</td>\n",
       "      <td>NaN</td>\n",
       "      <td>NaN</td>\n",
       "      <td>NaN</td>\n",
       "      <td>NaN</td>\n",
       "    </tr>\n",
       "    <tr>\n",
       "      <th>77637</th>\n",
       "      <td>2020-11-12</td>\n",
       "      <td>2020-11-10</td>\n",
       "      <td>700 TEXAS AVE.</td>\n",
       "      <td>NEDERLAND</td>\n",
       "      <td>JEFFERSON</td>\n",
       "      <td>OTHER</td>\n",
       "      <td>ASSIST OTHER AGENCY IN SEARCHING FOR AN ARMED ...</td>\n",
       "      <td>DARON</td>\n",
       "      <td>JONES</td>\n",
       "      <td>DARON JONES</td>\n",
       "      <td>...</td>\n",
       "      <td>1</td>\n",
       "      <td>NaN</td>\n",
       "      <td>NaN</td>\n",
       "      <td>True</td>\n",
       "      <td>NaN</td>\n",
       "      <td>22:18:00</td>\n",
       "      <td>GUN</td>\n",
       "      <td>FIREARM</td>\n",
       "      <td>NaN</td>\n",
       "      <td>NaN</td>\n",
       "    </tr>\n",
       "    <tr>\n",
       "      <th>78042</th>\n",
       "      <td>2018-10-12</td>\n",
       "      <td>2018-09-15</td>\n",
       "      <td>417 E. FREMONT STREET</td>\n",
       "      <td>LAREDO</td>\n",
       "      <td>WEBB</td>\n",
       "      <td>TRAFFIC STOP; OTHER</td>\n",
       "      <td>DOMESTIC VIOLENCE CALL/EVADING ARREST</td>\n",
       "      <td>ANTONIO</td>\n",
       "      <td>AGUIRRE</td>\n",
       "      <td>ANTONIO AGUIRRE</td>\n",
       "      <td>...</td>\n",
       "      <td>1</td>\n",
       "      <td>NaN</td>\n",
       "      <td>NaN</td>\n",
       "      <td>True</td>\n",
       "      <td>NaN</td>\n",
       "      <td>01:00:00</td>\n",
       "      <td>GUN</td>\n",
       "      <td>FIREARM</td>\n",
       "      <td>NaN</td>\n",
       "      <td>NaN</td>\n",
       "    </tr>\n",
       "    <tr>\n",
       "      <th>78599</th>\n",
       "      <td>2020-02-12</td>\n",
       "      <td>2020-02-02</td>\n",
       "      <td>806 WASHINGTON ST.</td>\n",
       "      <td>WESLACO</td>\n",
       "      <td>HIDALGO</td>\n",
       "      <td>EMERGENCY CALL OR REQUEST FOR ASSISTANCE</td>\n",
       "      <td>NaN</td>\n",
       "      <td>JOSE LUIS</td>\n",
       "      <td>SANDOVAL</td>\n",
       "      <td>JOSE LUIS SANDOVAL</td>\n",
       "      <td>...</td>\n",
       "      <td>1</td>\n",
       "      <td>NaN</td>\n",
       "      <td>NaN</td>\n",
       "      <td>True</td>\n",
       "      <td>NaN</td>\n",
       "      <td>23:21:00</td>\n",
       "      <td>GUN</td>\n",
       "      <td>FIREARM</td>\n",
       "      <td>NaN</td>\n",
       "      <td>NaN</td>\n",
       "    </tr>\n",
       "    <tr>\n",
       "      <th>78599</th>\n",
       "      <td>2020-09-03</td>\n",
       "      <td>2020-08-17</td>\n",
       "      <td>1310 N. TEXAS AVE</td>\n",
       "      <td>WESLACO</td>\n",
       "      <td>HIDALGO</td>\n",
       "      <td>EMERGENCY CALL OR REQUEST FOR ASSISTANCE</td>\n",
       "      <td>NaN</td>\n",
       "      <td>MARCO ANTONIO</td>\n",
       "      <td>SIGALA JR.</td>\n",
       "      <td>MARCO ANTONIO SIGALA JR.</td>\n",
       "      <td>...</td>\n",
       "      <td>1</td>\n",
       "      <td>NaN</td>\n",
       "      <td>NaN</td>\n",
       "      <td>True</td>\n",
       "      <td>NaN</td>\n",
       "      <td>15:17:00</td>\n",
       "      <td>GUN</td>\n",
       "      <td>FIREARM</td>\n",
       "      <td>NaN</td>\n",
       "      <td>NaN</td>\n",
       "    </tr>\n",
       "    <tr>\n",
       "      <th>78904</th>\n",
       "      <td>2017-02-23</td>\n",
       "      <td>2016-04-16</td>\n",
       "      <td>NaN</td>\n",
       "      <td>VICTORIA</td>\n",
       "      <td>VICTORIA</td>\n",
       "      <td>OTHER - SPECIFY TYPE OF CALL</td>\n",
       "      <td>DECEDENT BROKE INTO THE OFFICERS RESIDENCE.</td>\n",
       "      <td>WADE AUSTIN</td>\n",
       "      <td>KLOESEL</td>\n",
       "      <td>WADE AUSTIN KLOESEL</td>\n",
       "      <td>...</td>\n",
       "      <td>1</td>\n",
       "      <td>NaN</td>\n",
       "      <td>NaN</td>\n",
       "      <td>False</td>\n",
       "      <td>NaN</td>\n",
       "      <td>03:26:00</td>\n",
       "      <td>NaN</td>\n",
       "      <td>NaN</td>\n",
       "      <td>NaN</td>\n",
       "      <td>NaN</td>\n",
       "    </tr>\n",
       "    <tr>\n",
       "      <th>88434</th>\n",
       "      <td>NaN</td>\n",
       "      <td>2016-10-24</td>\n",
       "      <td>IH 40 WESTBOUND/MILEPOST 378</td>\n",
       "      <td>NOT IN CITY LIMITS</td>\n",
       "      <td>QUAY (NM)</td>\n",
       "      <td>OTHER - SPECIFY TYPE OF CALL</td>\n",
       "      <td>THE INCIDENT ORIGINATED AS A TRAFFIC STOP. THE...</td>\n",
       "      <td>MARIO</td>\n",
       "      <td>MONTES</td>\n",
       "      <td>MARIO MONTES</td>\n",
       "      <td>...</td>\n",
       "      <td>1</td>\n",
       "      <td>NaN</td>\n",
       "      <td>NaN</td>\n",
       "      <td>True</td>\n",
       "      <td>NaN</td>\n",
       "      <td>06:05:00</td>\n",
       "      <td>HANDGUN</td>\n",
       "      <td>FIREARM</td>\n",
       "      <td>NaN</td>\n",
       "      <td>NaN</td>\n",
       "    </tr>\n",
       "    <tr>\n",
       "      <th>nan</th>\n",
       "      <td>NaN</td>\n",
       "      <td>2015-12-02</td>\n",
       "      <td>TX 16; .4 MILE N. OF ATASCOSA CO.</td>\n",
       "      <td>NaN</td>\n",
       "      <td>BEXAR</td>\n",
       "      <td>TRAFFIC STOP</td>\n",
       "      <td>NaN</td>\n",
       "      <td>ALLEN</td>\n",
       "      <td>PACHECO</td>\n",
       "      <td>ALLEN PACHECO</td>\n",
       "      <td>...</td>\n",
       "      <td>1</td>\n",
       "      <td>NaN</td>\n",
       "      <td>NaN</td>\n",
       "      <td>True</td>\n",
       "      <td>NaN</td>\n",
       "      <td>NaN</td>\n",
       "      <td>NaN</td>\n",
       "      <td>(DETAILS MISSING)</td>\n",
       "      <td>NaN</td>\n",
       "      <td>NaN</td>\n",
       "    </tr>\n",
       "    <tr>\n",
       "      <th>nan</th>\n",
       "      <td>NaN</td>\n",
       "      <td>2016-02-27</td>\n",
       "      <td>US HIGHWAY 181 AT LOOP 1604</td>\n",
       "      <td>ELEMENDORF</td>\n",
       "      <td>BEXAR</td>\n",
       "      <td>EMERGENCY CALL OR REQUEST FOR ASSISTANCE</td>\n",
       "      <td>PURSUIT IN STOLEN VEHICLE</td>\n",
       "      <td>FERNANDO</td>\n",
       "      <td>HERNANDEZ</td>\n",
       "      <td>FERNANDO HERNANDEZ</td>\n",
       "      <td>...</td>\n",
       "      <td>1</td>\n",
       "      <td>NaN</td>\n",
       "      <td>NaN</td>\n",
       "      <td>True</td>\n",
       "      <td>NaN</td>\n",
       "      <td>NaN</td>\n",
       "      <td>FIREARM</td>\n",
       "      <td>FIREARM</td>\n",
       "      <td>NaN</td>\n",
       "      <td>NaN</td>\n",
       "    </tr>\n",
       "    <tr>\n",
       "      <th>nan</th>\n",
       "      <td>2017-04-13</td>\n",
       "      <td>2017-03-29</td>\n",
       "      <td>FM 1752-NORTH OF FM 898</td>\n",
       "      <td>UNINCORPORATED</td>\n",
       "      <td>FANNIN</td>\n",
       "      <td>TRAFFIC STOP</td>\n",
       "      <td>OTHER - SPECIFY TYPE OF CALL</td>\n",
       "      <td>DENNIS</td>\n",
       "      <td>WASSON II</td>\n",
       "      <td>DENNIS WASSON II</td>\n",
       "      <td>...</td>\n",
       "      <td>1</td>\n",
       "      <td>NaN</td>\n",
       "      <td>NaN</td>\n",
       "      <td>True</td>\n",
       "      <td>NaN</td>\n",
       "      <td>23:11:00</td>\n",
       "      <td>VEHICLE</td>\n",
       "      <td>VEHICLE</td>\n",
       "      <td>NaN</td>\n",
       "      <td>NaN</td>\n",
       "    </tr>\n",
       "    <tr>\n",
       "      <th>nan</th>\n",
       "      <td>2018-02-25</td>\n",
       "      <td>2018-02-21</td>\n",
       "      <td>100 S. POPLAR</td>\n",
       "      <td>STRATFORD</td>\n",
       "      <td>SHERMAN</td>\n",
       "      <td>TRAFFIC STOP</td>\n",
       "      <td>NaN</td>\n",
       "      <td>DARION DEVON</td>\n",
       "      <td>BAKER</td>\n",
       "      <td>DARION DEVON BAKER</td>\n",
       "      <td>...</td>\n",
       "      <td>1</td>\n",
       "      <td>NaN</td>\n",
       "      <td>NaN</td>\n",
       "      <td>True</td>\n",
       "      <td>NaN</td>\n",
       "      <td>19:30:00</td>\n",
       "      <td>VEHICLE</td>\n",
       "      <td>VEHICLE</td>\n",
       "      <td>NaN</td>\n",
       "      <td>NaN</td>\n",
       "    </tr>\n",
       "  </tbody>\n",
       "</table>\n",
       "<p>11 rows × 144 columns</p>\n",
       "</div>"
      ],
      "text/plain": [
       "      date_ag_received date_incident                   incident_address       incident_city incident_county                        incident_result_of                                incident_call_other civilian_name_first civilian_name_last        civilian_name_full  ... num_rows_about_this_incident  officer_age_11 officer_gender_11 officer_on_duty  officer_race_11 time_incident weapon_reported_by_media weapon_reported_by_media_category med_income state\n",
       "75261              NaN    2015-09-08                    1500 RANGE ROAD        DFW, AIRPORT         TARRANT              OTHER - SPECIFY TYPE OF CALL  TRAINING EXERCISE - RICOCHET FRAGMENTS RESULTI...                 NaN                NaN                       NaN  ...                            1             NaN               NaN            True              NaN           NaN                      NaN                               NaN        NaN   NaN\n",
       "77637       2020-11-12    2020-11-10                     700 TEXAS AVE.           NEDERLAND       JEFFERSON                                     OTHER  ASSIST OTHER AGENCY IN SEARCHING FOR AN ARMED ...               DARON              JONES               DARON JONES  ...                            1             NaN               NaN            True              NaN      22:18:00                      GUN                           FIREARM        NaN   NaN\n",
       "78042       2018-10-12    2018-09-15              417 E. FREMONT STREET              LAREDO            WEBB                       TRAFFIC STOP; OTHER              DOMESTIC VIOLENCE CALL/EVADING ARREST             ANTONIO            AGUIRRE           ANTONIO AGUIRRE  ...                            1             NaN               NaN            True              NaN      01:00:00                      GUN                           FIREARM        NaN   NaN\n",
       "78599       2020-02-12    2020-02-02                 806 WASHINGTON ST.             WESLACO         HIDALGO  EMERGENCY CALL OR REQUEST FOR ASSISTANCE                                                NaN           JOSE LUIS           SANDOVAL        JOSE LUIS SANDOVAL  ...                            1             NaN               NaN            True              NaN      23:21:00                      GUN                           FIREARM        NaN   NaN\n",
       "78599       2020-09-03    2020-08-17                  1310 N. TEXAS AVE             WESLACO         HIDALGO  EMERGENCY CALL OR REQUEST FOR ASSISTANCE                                                NaN       MARCO ANTONIO         SIGALA JR.  MARCO ANTONIO SIGALA JR.  ...                            1             NaN               NaN            True              NaN      15:17:00                      GUN                           FIREARM        NaN   NaN\n",
       "78904       2017-02-23    2016-04-16                                NaN            VICTORIA        VICTORIA              OTHER - SPECIFY TYPE OF CALL        DECEDENT BROKE INTO THE OFFICERS RESIDENCE.         WADE AUSTIN            KLOESEL       WADE AUSTIN KLOESEL  ...                            1             NaN               NaN           False              NaN      03:26:00                      NaN                               NaN        NaN   NaN\n",
       "88434              NaN    2016-10-24       IH 40 WESTBOUND/MILEPOST 378  NOT IN CITY LIMITS       QUAY (NM)              OTHER - SPECIFY TYPE OF CALL  THE INCIDENT ORIGINATED AS A TRAFFIC STOP. THE...               MARIO             MONTES              MARIO MONTES  ...                            1             NaN               NaN            True              NaN      06:05:00                  HANDGUN                           FIREARM        NaN   NaN\n",
       "nan                NaN    2015-12-02  TX 16; .4 MILE N. OF ATASCOSA CO.                 NaN           BEXAR                              TRAFFIC STOP                                                NaN               ALLEN            PACHECO             ALLEN PACHECO  ...                            1             NaN               NaN            True              NaN           NaN                      NaN                 (DETAILS MISSING)        NaN   NaN\n",
       "nan                NaN    2016-02-27        US HIGHWAY 181 AT LOOP 1604          ELEMENDORF           BEXAR  EMERGENCY CALL OR REQUEST FOR ASSISTANCE                          PURSUIT IN STOLEN VEHICLE            FERNANDO          HERNANDEZ        FERNANDO HERNANDEZ  ...                            1             NaN               NaN            True              NaN           NaN                  FIREARM                           FIREARM        NaN   NaN\n",
       "nan         2017-04-13    2017-03-29            FM 1752-NORTH OF FM 898      UNINCORPORATED          FANNIN                              TRAFFIC STOP                       OTHER - SPECIFY TYPE OF CALL              DENNIS          WASSON II          DENNIS WASSON II  ...                            1             NaN               NaN            True              NaN      23:11:00                  VEHICLE                           VEHICLE        NaN   NaN\n",
       "nan         2018-02-25    2018-02-21                      100 S. POPLAR           STRATFORD         SHERMAN                              TRAFFIC STOP                                                NaN        DARION DEVON              BAKER        DARION DEVON BAKER  ...                            1             NaN               NaN            True              NaN      19:30:00                  VEHICLE                           VEHICLE        NaN   NaN\n",
       "\n",
       "[11 rows x 144 columns]"
      ]
     },
     "execution_count": 183,
     "metadata": {},
     "output_type": "execute_result"
    }
   ],
   "source": [
    "shot_civilians_income.loc[shot_civilians_income['med_income'].isnull() == True]"
   ]
  }
 ],
 "metadata": {
  "kernelspec": {
   "display_name": "Python 3",
   "language": "python",
   "name": "python3"
  },
  "language_info": {
   "codemirror_mode": {
    "name": "ipython",
    "version": 3
   },
   "file_extension": ".py",
   "mimetype": "text/x-python",
   "name": "python",
   "nbconvert_exporter": "python",
   "pygments_lexer": "ipython3",
   "version": "3.8.5"
  }
 },
 "nbformat": 4,
 "nbformat_minor": 4
}
